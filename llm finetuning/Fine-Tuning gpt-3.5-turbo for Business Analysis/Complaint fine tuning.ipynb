{
  "cells": [
    {
      "cell_type": "markdown",
      "metadata": {
        "id": "2AqPte8bet51"
      },
      "source": [
        "# Welcome To The Notebook"
      ]
    },
    {
      "cell_type": "markdown",
      "metadata": {
        "id": "1Rp80dTGpsDD"
      },
      "source": [
        "### Task 1 - Set up the project environment"
      ]
    },
    {
      "cell_type": "code",
      "execution_count": 2,
      "metadata": {
        "id": "lx4wV2MIUJ8A"
      },
      "outputs": [
        {
          "name": "stdout",
          "output_type": "stream",
          "text": [
            "Requirement already satisfied: matplotlib in /Users/lxt/anaconda3/lib/python3.11/site-packages (3.8.0)\n",
            "Requirement already satisfied: contourpy>=1.0.1 in /Users/lxt/anaconda3/lib/python3.11/site-packages (from matplotlib) (1.2.0)\n",
            "Requirement already satisfied: cycler>=0.10 in /Users/lxt/anaconda3/lib/python3.11/site-packages (from matplotlib) (0.11.0)\n",
            "Requirement already satisfied: fonttools>=4.22.0 in /Users/lxt/anaconda3/lib/python3.11/site-packages (from matplotlib) (4.25.0)\n",
            "Requirement already satisfied: kiwisolver>=1.0.1 in /Users/lxt/anaconda3/lib/python3.11/site-packages (from matplotlib) (1.4.4)\n",
            "Requirement already satisfied: numpy<2,>=1.21 in /Users/lxt/anaconda3/lib/python3.11/site-packages (from matplotlib) (1.26.4)\n",
            "Requirement already satisfied: packaging>=20.0 in /Users/lxt/anaconda3/lib/python3.11/site-packages (from matplotlib) (23.2)\n",
            "Requirement already satisfied: pillow>=6.2.0 in /Users/lxt/anaconda3/lib/python3.11/site-packages (from matplotlib) (10.2.0)\n",
            "Requirement already satisfied: pyparsing>=2.3.1 in /Users/lxt/anaconda3/lib/python3.11/site-packages (from matplotlib) (3.0.9)\n",
            "Requirement already satisfied: python-dateutil>=2.7 in /Users/lxt/anaconda3/lib/python3.11/site-packages (from matplotlib) (2.8.2)\n",
            "Requirement already satisfied: six>=1.5 in /Users/lxt/anaconda3/lib/python3.11/site-packages (from python-dateutil>=2.7->matplotlib) (1.16.0)\n",
            "Note: you may need to restart the kernel to use updated packages.\n"
          ]
        }
      ],
      "source": [
        "%pip install matplotlib #openai==1.7.2 python-dotenv"
      ]
    },
    {
      "cell_type": "markdown",
      "metadata": {
        "id": "qypdUNULptjB"
      },
      "source": [
        "Importing modules"
      ]
    },
    {
      "cell_type": "code",
      "execution_count": 2,
      "metadata": {
        "id": "YFmEp0r5T2eI"
      },
      "outputs": [
        {
          "name": "stdout",
          "output_type": "stream",
          "text": [
            "Modules are imported.\n"
          ]
        }
      ],
      "source": [
        "import pandas as pd\n",
        "import os, time\n",
        "from openai import OpenAI\n",
        "from dotenv import load_dotenv\n",
        "import json\n",
        "import matplotlib.pyplot as plt\n",
        "\n",
        "print(\"Modules are imported.\")"
      ]
    },
    {
      "cell_type": "markdown",
      "metadata": {
        "id": "XfVAcV_XqDja"
      },
      "source": [
        "Setting up the OpenAI API:\n",
        "\n",
        "* Prepare a .env file to store the OpenAI API key.\n",
        "* Uploading the .env file to our colab environment\n",
        "* Load the API key and setup the API"
      ]
    },
    {
      "cell_type": "code",
      "execution_count": 3,
      "metadata": {
        "id": "rbXC4QM4qCBe"
      },
      "outputs": [],
      "source": [
        "load_dotenv(\"apikey.env.txt\")\n",
        "\n",
        "APIKEY = os.getenv(\"APIKEY\")"
      ]
    },
    {
      "cell_type": "markdown",
      "metadata": {
        "id": "rWxipGQIpxH8"
      },
      "source": [
        "Creating OpenAI Client"
      ]
    },
    {
      "cell_type": "code",
      "execution_count": 4,
      "metadata": {
        "id": "nHj-RaA5p0WE"
      },
      "outputs": [
        {
          "data": {
            "text/plain": [
              "<openai.OpenAI at 0x143be7710>"
            ]
          },
          "execution_count": 4,
          "metadata": {},
          "output_type": "execute_result"
        }
      ],
      "source": [
        "client = OpenAI(api_key=APIKEY)\n",
        "client"
      ]
    },
    {
      "cell_type": "markdown",
      "metadata": {
        "id": "0r2XnfwnqTCK"
      },
      "source": [
        "### Task 2 - Prepare the training data"
      ]
    },
    {
      "cell_type": "markdown",
      "metadata": {
        "id": "-_Alc-CyuHmE"
      },
      "source": [
        "Loading the provided `Customer Complaints.csv`\n",
        "\n"
      ]
    },
    {
      "cell_type": "code",
      "execution_count": 5,
      "metadata": {
        "id": "jan2OKk5qW1J"
      },
      "outputs": [
        {
          "data": {
            "text/html": [
              "<div>\n",
              "<style scoped>\n",
              "    .dataframe tbody tr th:only-of-type {\n",
              "        vertical-align: middle;\n",
              "    }\n",
              "\n",
              "    .dataframe tbody tr th {\n",
              "        vertical-align: top;\n",
              "    }\n",
              "\n",
              "    .dataframe thead th {\n",
              "        text-align: right;\n",
              "    }\n",
              "</style>\n",
              "<table border=\"1\" class=\"dataframe\">\n",
              "  <thead>\n",
              "    <tr style=\"text-align: right;\">\n",
              "      <th></th>\n",
              "      <th>Complaints</th>\n",
              "      <th>Details</th>\n",
              "    </tr>\n",
              "  </thead>\n",
              "  <tbody>\n",
              "    <tr>\n",
              "      <th>0</th>\n",
              "      <td>Unreliable internet! Sick of constant outages...</td>\n",
              "      <td>{\"Topic\": \"Internet\", \"Problem\": \"Unreliable s...</td>\n",
              "    </tr>\n",
              "    <tr>\n",
              "      <th>1</th>\n",
              "      <td>TV signal keeps dropping during crucial momen...</td>\n",
              "      <td>{\"Topic\": \"TV\", \"Problem\": \"Signal dropout\", \"...</td>\n",
              "    </tr>\n",
              "    <tr>\n",
              "      <th>2</th>\n",
              "      <td>Phone line always crackling! Can't hear a thi...</td>\n",
              "      <td>{\"Topic\": \"Phone\", \"Problem\": \"Crackling line\"...</td>\n",
              "    </tr>\n",
              "    <tr>\n",
              "      <th>3</th>\n",
              "      <td>Ridiculous prices for such terrible service! ...</td>\n",
              "      <td>{\"Topic\": \"Billing\", \"Problem\": \"Overcharged\",...</td>\n",
              "    </tr>\n",
              "    <tr>\n",
              "      <th>4</th>\n",
              "      <td>Internet speed slower than a snail! Can't str...</td>\n",
              "      <td>{\"Topic\": \"Internet\", \"Problem\": \"Slow speed\",...</td>\n",
              "    </tr>\n",
              "  </tbody>\n",
              "</table>\n",
              "</div>"
            ],
            "text/plain": [
              "                                          Complaints  \\\n",
              "0   Unreliable internet! Sick of constant outages...   \n",
              "1   TV signal keeps dropping during crucial momen...   \n",
              "2   Phone line always crackling! Can't hear a thi...   \n",
              "3   Ridiculous prices for such terrible service! ...   \n",
              "4   Internet speed slower than a snail! Can't str...   \n",
              "\n",
              "                                             Details  \n",
              "0  {\"Topic\": \"Internet\", \"Problem\": \"Unreliable s...  \n",
              "1  {\"Topic\": \"TV\", \"Problem\": \"Signal dropout\", \"...  \n",
              "2  {\"Topic\": \"Phone\", \"Problem\": \"Crackling line\"...  \n",
              "3  {\"Topic\": \"Billing\", \"Problem\": \"Overcharged\",...  \n",
              "4  {\"Topic\": \"Internet\", \"Problem\": \"Slow speed\",...  "
            ]
          },
          "execution_count": 5,
          "metadata": {},
          "output_type": "execute_result"
        }
      ],
      "source": [
        "training_data = pd.read_csv(\"Customer Complaints.csv\")\n",
        "training_data.head()"
      ]
    },
    {
      "cell_type": "markdown",
      "metadata": {
        "id": "uIK863G-qvMN"
      },
      "source": [
        "**Converting the Complaints records to json**\n",
        "\n",
        "To be able to use the data for the fine-tuning purpose, we first need to convert each row of the dataframe into the following format:\n",
        "\n",
        "<pre>\n",
        "<code>\n",
        "{\n",
        "  <span style=\"color: blue;\">\"messages\"</span>: [\n",
        "    {\n",
        "      <span style=\"color: blue;\">\"role\"</span>: <span style=\"color: red;\">\"system\"</span>,\n",
        "      <span style=\"color: blue;\">\"content\"</span>: \"<span style=\"color: green;\">Providing context about the user's prompt.\n",
        "                  It may include information about the task,\n",
        "                  instructions, or background details relevant\n",
        "                  to the conversation.</span>\"\n",
        "    },\n",
        "    {\n",
        "      <span style=\"color: blue;\">\"role\"</span>: <span style=\"color: red;\">\"user\"</span>,\n",
        "      <span style=\"color: blue;\">\"content\"</span>: \"<span style=\"color: green;\">the prompt or input provided by the user,\n",
        "                  which typically initiates the conversation with the assistant.</span>\"\n",
        "    },\n",
        "    {\n",
        "      <span style=\"color: blue;\">\"role\"</span>: <span style=\"color: red;\">\"assistant\"</span>,\n",
        "      <span style=\"color: blue;\">\"content\"</span>: \"<span style=\"color: green;\">The desired response or output generated by\n",
        "                  the assistant in response to the user's prompt.</span>\"\n",
        "    }\n",
        "  ]\n",
        "}\n",
        "</code>\n",
        "</pre>\n",
        "\n",
        "Let's get started!"
      ]
    },
    {
      "cell_type": "markdown",
      "metadata": {
        "id": "fWVCfuvRjdXa"
      },
      "source": [
        "Let's define a method that get's a row of the dataframe and convert it into the json format"
      ]
    },
    {
      "cell_type": "code",
      "execution_count": 6,
      "metadata": {
        "id": "-tHnvRamq5NK"
      },
      "outputs": [],
      "source": [
        "def save_as_json(row):\n",
        "\n",
        "  system_content = \"\"\"\n",
        "      Given a customer complaint text, extract and return the following information in json (dict) format:\n",
        "      - Topic: The product/department that the customer has a complaint about.\n",
        "      - Problem: A two or three-word description of what exactly the problem is.\n",
        "      - Customer_Dissatisfaction_Index: is a number between 0 and 100 showing\n",
        "             how angry the customer is about the problem.\n",
        "  \"\"\"\n",
        "\n",
        "  formatted_data = {\n",
        "        \"messages\": [\n",
        "            {\"role\": \"system\", \"content\": system_content},\n",
        "            {\"role\": \"user\", \"content\": row.Complaints},\n",
        "            {\"role\": \"assistant\", \"content\": row.Details}\n",
        "        ]\n",
        "      }\n",
        "\n",
        "  with open(\"training_data.json\", \"a\") as json_file:\n",
        "        json.dump(formatted_data, json_file)\n",
        "        json_file.write(\"\\n\")"
      ]
    },
    {
      "cell_type": "markdown",
      "metadata": {
        "id": "K3haPgzI-ClF"
      },
      "source": [
        "Now let's use of this method to generate the `training_data.json`"
      ]
    },
    {
      "cell_type": "code",
      "execution_count": 7,
      "metadata": {
        "id": "LNOMxwSX8dE4"
      },
      "outputs": [],
      "source": [
        "for index, row in training_data.iterrows():\n",
        "    save_as_json(row)"
      ]
    },
    {
      "cell_type": "markdown",
      "metadata": {
        "id": "Jo9HFdW0jput"
      },
      "source": [
        "### Task 3 - Fine-tune GPT 3.5 based on our training data"
      ]
    },
    {
      "cell_type": "markdown",
      "metadata": {
        "id": "h4TMhzSNj4hH"
      },
      "source": [
        "Let's import the json file we prepared as our training data"
      ]
    },
    {
      "cell_type": "code",
      "execution_count": 9,
      "metadata": {
        "id": "ExJ2cRU5-XtH"
      },
      "outputs": [
        {
          "data": {
            "text/plain": [
              "FileObject(id='file-INwS1KMOrx3Jkg8f2oLEc6TN', bytes=93444, created_at=1716480287, filename='training_data.json', object='file', purpose='fine-tune', status='processed', status_details=None)"
            ]
          },
          "execution_count": 9,
          "metadata": {},
          "output_type": "execute_result"
        }
      ],
      "source": [
        "data_file = client.files.create(\n",
        "    file=open(\"training_data.json\", \"rb\"), # rb = read binary\n",
        "    purpose=\"fine-tune\"\n",
        ")\n",
        "data_file"
      ]
    },
    {
      "cell_type": "markdown",
      "metadata": {
        "id": "TiBcO3I0kIU5"
      },
      "source": [
        "Create the Fine Tuning Job"
      ]
    },
    {
      "cell_type": "code",
      "execution_count": 19,
      "metadata": {
        "id": "BXJB348zkMSx"
      },
      "outputs": [
        {
          "data": {
            "text/plain": [
              "FineTuningJob(id='ftjob-0UfvfDp7jnQA6oNNWoc8nbLO', created_at=1716482551, error=Error(code=None, message=None, param=None), fine_tuned_model=None, finished_at=None, hyperparameters=Hyperparameters(n_epochs='auto', batch_size='auto', learning_rate_multiplier='auto'), model='gpt-3.5-turbo-0125', object='fine_tuning.job', organization_id='org-rAq18WROyt1fyMMnxrmPR94n', result_files=[], status='validating_files', trained_tokens=None, training_file='file-INwS1KMOrx3Jkg8f2oLEc6TN', validation_file=None, user_provided_suffix=None, seed=1840587173, estimated_finish=None, integrations=[])"
            ]
          },
          "execution_count": 19,
          "metadata": {},
          "output_type": "execute_result"
        }
      ],
      "source": [
        "fine_tuning_job = client.fine_tuning.jobs.create(\n",
        "    training_file = data_file.id,\n",
        "    model = \"gpt-3.5-turbo\",\n",
        "    hyperparameters = {\n",
        "        \"n_epochs\": 'auto',\n",
        "    }\n",
        ")\n",
        "fine_tuning_job"
      ]
    },
    {
      "cell_type": "markdown",
      "metadata": {
        "id": "u7XWcO_7kzY6"
      },
      "source": [
        "Let's retrieve the state of the fine-tune"
      ]
    },
    {
      "cell_type": "code",
      "execution_count": 20,
      "metadata": {
        "id": "hpbHjWu3AS4k"
      },
      "outputs": [
        {
          "name": "stdout",
          "output_type": "stream",
          "text": [
            "running\n",
            "running\n",
            "running\n",
            "running\n",
            "running\n",
            "running\n",
            "running\n",
            "running\n",
            "running\n",
            "running\n",
            "running\n",
            "running\n",
            "running\n",
            "running\n",
            "running\n",
            "running\n",
            "running\n",
            "running\n",
            "running\n",
            "running\n",
            "running\n",
            "running\n",
            "running\n",
            "running\n",
            "running\n",
            "running\n",
            "running\n",
            "running\n",
            "running\n",
            "running\n",
            "running\n",
            "running\n",
            "running\n",
            "running\n",
            "running\n",
            "running\n",
            "running\n",
            "running\n",
            "running\n",
            "running\n",
            "running\n",
            "running\n",
            "running\n",
            "running\n",
            "running\n",
            "running\n",
            "running\n",
            "running\n",
            "running\n",
            "running\n",
            "running\n",
            "running\n",
            "running\n",
            "running\n",
            "running\n",
            "running\n",
            "running\n",
            "running\n",
            "running\n",
            "running\n",
            "running\n",
            "running\n",
            "running\n",
            "running\n",
            "running\n",
            "running\n",
            "running\n",
            "running\n",
            "running\n",
            "running\n",
            "running\n",
            "running\n",
            "running\n",
            "running\n",
            "running\n",
            "running\n",
            "running\n",
            "running\n",
            "running\n",
            "running\n",
            "running\n",
            "running\n",
            "running\n",
            "running\n",
            "running\n",
            "running\n",
            "running\n",
            "running\n",
            "running\n",
            "running\n",
            "running\n",
            "running\n",
            "running\n",
            "running\n",
            "running\n",
            "running\n",
            "running\n",
            "running\n",
            "running\n",
            "running\n",
            "running\n",
            "running\n",
            "running\n",
            "running\n",
            "running\n",
            "running\n",
            "running\n",
            "running\n",
            "running\n",
            "running\n",
            "running\n",
            "running\n",
            "running\n",
            "running\n",
            "running\n",
            "running\n",
            "running\n",
            "running\n",
            "running\n",
            "running\n",
            "running\n",
            "running\n",
            "running\n",
            "running\n",
            "running\n",
            "running\n",
            "running\n",
            "running\n",
            "running\n",
            "running\n",
            "running\n",
            "running\n",
            "running\n",
            "running\n",
            "running\n",
            "running\n",
            "running\n",
            "running\n",
            "running\n",
            "running\n",
            "running\n",
            "running\n",
            "running\n",
            "running\n",
            "running\n",
            "running\n",
            "running\n",
            "running\n",
            "running\n",
            "running\n",
            "running\n",
            "running\n",
            "running\n",
            "running\n",
            "running\n",
            "running\n",
            "running\n",
            "running\n",
            "running\n",
            "running\n",
            "running\n",
            "running\n",
            "running\n",
            "running\n",
            "running\n",
            "running\n",
            "running\n",
            "running\n",
            "running\n",
            "running\n",
            "running\n",
            "running\n",
            "running\n",
            "running\n",
            "running\n",
            "running\n",
            "running\n",
            "running\n",
            "running\n",
            "running\n",
            "running\n",
            "running\n",
            "running\n",
            "running\n",
            "running\n",
            "running\n",
            "running\n",
            "running\n",
            "running\n",
            "running\n",
            "running\n",
            "running\n",
            "running\n",
            "running\n",
            "running\n",
            "running\n",
            "running\n",
            "running\n",
            "running\n",
            "running\n",
            "running\n",
            "running\n",
            "running\n",
            "running\n",
            "running\n",
            "running\n",
            "running\n",
            "running\n",
            "running\n",
            "running\n",
            "running\n",
            "running\n",
            "running\n",
            "running\n",
            "running\n",
            "running\n",
            "running\n",
            "running\n",
            "running\n",
            "running\n",
            "running\n",
            "running\n",
            "running\n",
            "running\n",
            "running\n",
            "running\n",
            "running\n",
            "running\n",
            "running\n",
            "running\n",
            "running\n",
            "running\n",
            "running\n",
            "running\n",
            "running\n",
            "running\n",
            "running\n",
            "running\n",
            "running\n",
            "running\n",
            "running\n",
            "running\n",
            "running\n",
            "running\n",
            "running\n",
            "running\n",
            "running\n",
            "running\n",
            "running\n",
            "running\n",
            "running\n",
            "running\n",
            "running\n",
            "running\n",
            "running\n",
            "running\n",
            "running\n",
            "running\n",
            "running\n",
            "running\n",
            "running\n",
            "running\n",
            "running\n",
            "running\n",
            "running\n",
            "running\n",
            "running\n",
            "running\n",
            "running\n",
            "running\n",
            "running\n",
            "running\n",
            "running\n",
            "running\n",
            "running\n",
            "running\n",
            "running\n",
            "running\n",
            "running\n",
            "running\n",
            "running\n",
            "running\n",
            "running\n",
            "running\n",
            "running\n",
            "running\n",
            "running\n",
            "running\n",
            "running\n",
            "running\n",
            "running\n",
            "running\n",
            "running\n",
            "running\n",
            "running\n",
            "running\n",
            "running\n",
            "running\n",
            "running\n",
            "running\n",
            "running\n",
            "running\n",
            "succeeded\n",
            "Fine-tuning is done.\n"
          ]
        }
      ],
      "source": [
        "while True:\n",
        "    time.sleep(2)\n",
        "    retrieve_job = client.fine_tuning.jobs.retrieve(fine_tuning_job.id)\n",
        "    status = retrieve_job.status\n",
        "    print(status)\n",
        "    if status == \"succeeded\":\n",
        "        print(\"Fine-tuning is done.\")\n",
        "        break\n",
        "    "
      ]
    },
    {
      "cell_type": "markdown",
      "metadata": {
        "id": "4XB-sFc3kO4A"
      },
      "source": [
        "### Task 4 - Evaluate model"
      ]
    },
    {
      "cell_type": "markdown",
      "metadata": {
        "id": "p_3bNsW3k_eR"
      },
      "source": [
        "Let's retrieve the event messages to check out the learning process of our fine-tuning job."
      ]
    },
    {
      "cell_type": "code",
      "execution_count": 22,
      "metadata": {
        "id": "O2bif68aIEGJ"
      },
      "outputs": [
        {
          "name": "stdout",
          "output_type": "stream",
          "text": [
            "The job has successfully completed\n",
            "New fine-tuned model created: ft:gpt-3.5-turbo-0125:personal::9S60AmFm\n",
            "Checkpoint created at step 268 with Snapshot ID: ft:gpt-3.5-turbo-0125:personal::9S60ACDN:ckpt-step-268\n",
            "Checkpoint created at step 134 with Snapshot ID: ft:gpt-3.5-turbo-0125:personal::9S60AxtS:ckpt-step-134\n",
            "Step 402/402: training loss=0.06\n",
            "Step 401/402: training loss=0.01\n",
            "Step 400/402: training loss=0.19\n",
            "Step 399/402: training loss=0.01\n",
            "Step 398/402: training loss=0.00\n",
            "Step 397/402: training loss=0.01\n",
            "Step 396/402: training loss=0.01\n",
            "Step 395/402: training loss=0.04\n",
            "Step 394/402: training loss=0.08\n",
            "Step 393/402: training loss=0.04\n",
            "Step 392/402: training loss=0.00\n",
            "Step 391/402: training loss=0.17\n",
            "Step 390/402: training loss=0.06\n",
            "Step 389/402: training loss=0.07\n",
            "Step 388/402: training loss=0.00\n",
            "Step 387/402: training loss=0.00\n",
            "Step 386/402: training loss=0.06\n",
            "Step 385/402: training loss=0.03\n",
            "Step 384/402: training loss=0.02\n",
            "Step 383/402: training loss=0.00\n",
            "Step 382/402: training loss=0.06\n",
            "Step 381/402: training loss=0.00\n",
            "Step 380/402: training loss=0.01\n",
            "Step 379/402: training loss=0.01\n",
            "Step 378/402: training loss=0.09\n",
            "Step 377/402: training loss=0.09\n",
            "Step 376/402: training loss=0.10\n",
            "Step 375/402: training loss=0.01\n",
            "Step 374/402: training loss=0.08\n",
            "Step 373/402: training loss=0.00\n",
            "Step 372/402: training loss=0.09\n",
            "Step 371/402: training loss=0.01\n",
            "Step 370/402: training loss=0.13\n",
            "Step 369/402: training loss=0.00\n",
            "Step 368/402: training loss=0.05\n",
            "Step 367/402: training loss=0.02\n",
            "Step 366/402: training loss=0.14\n",
            "Step 365/402: training loss=0.01\n",
            "Step 364/402: training loss=0.00\n",
            "Step 363/402: training loss=0.02\n",
            "Step 362/402: training loss=0.04\n",
            "Step 361/402: training loss=0.07\n",
            "Step 360/402: training loss=0.00\n",
            "Step 359/402: training loss=0.02\n",
            "Step 358/402: training loss=0.11\n",
            "Step 357/402: training loss=0.17\n",
            "Step 356/402: training loss=0.01\n",
            "Step 355/402: training loss=0.00\n",
            "Step 354/402: training loss=0.05\n",
            "Step 353/402: training loss=0.00\n",
            "Step 352/402: training loss=0.08\n",
            "Step 351/402: training loss=0.29\n",
            "Step 350/402: training loss=0.09\n",
            "Step 349/402: training loss=0.25\n",
            "Step 348/402: training loss=0.07\n",
            "Step 347/402: training loss=0.00\n",
            "Step 346/402: training loss=0.18\n",
            "Step 345/402: training loss=0.24\n",
            "Step 344/402: training loss=0.00\n",
            "Step 343/402: training loss=0.00\n",
            "Step 342/402: training loss=0.05\n",
            "Step 341/402: training loss=0.05\n",
            "Step 340/402: training loss=0.09\n",
            "Step 339/402: training loss=0.00\n",
            "Step 338/402: training loss=0.10\n",
            "Step 337/402: training loss=0.20\n",
            "Step 336/402: training loss=0.00\n",
            "Step 335/402: training loss=0.00\n",
            "Step 334/402: training loss=0.00\n",
            "Step 333/402: training loss=0.00\n",
            "Step 332/402: training loss=0.03\n",
            "Step 331/402: training loss=0.01\n",
            "Step 330/402: training loss=0.00\n",
            "Step 329/402: training loss=0.01\n",
            "Step 328/402: training loss=0.00\n",
            "Step 327/402: training loss=0.00\n",
            "Step 326/402: training loss=0.01\n",
            "Step 325/402: training loss=0.00\n",
            "Step 324/402: training loss=0.01\n",
            "Step 323/402: training loss=0.01\n",
            "Step 322/402: training loss=0.05\n",
            "Step 321/402: training loss=0.12\n",
            "Step 320/402: training loss=0.00\n",
            "Step 319/402: training loss=0.02\n",
            "Step 318/402: training loss=0.01\n",
            "Step 317/402: training loss=0.02\n",
            "Step 316/402: training loss=0.08\n",
            "Step 315/402: training loss=0.02\n",
            "Step 314/402: training loss=0.00\n",
            "Step 313/402: training loss=0.02\n",
            "Step 312/402: training loss=0.03\n",
            "Step 311/402: training loss=0.00\n",
            "Step 310/402: training loss=0.00\n",
            "Step 309/402: training loss=0.03\n",
            "Step 308/402: training loss=0.04\n",
            "Step 307/402: training loss=0.06\n",
            "Step 306/402: training loss=0.00\n",
            "Step 305/402: training loss=0.00\n",
            "Step 304/402: training loss=0.04\n",
            "Step 303/402: training loss=0.09\n",
            "Step 302/402: training loss=0.00\n",
            "Step 301/402: training loss=0.14\n",
            "Step 300/402: training loss=0.11\n",
            "Step 299/402: training loss=0.14\n",
            "Step 298/402: training loss=0.00\n",
            "Step 297/402: training loss=0.13\n",
            "Step 296/402: training loss=0.00\n",
            "Step 295/402: training loss=0.06\n",
            "Step 294/402: training loss=0.01\n",
            "Step 293/402: training loss=0.10\n",
            "Step 292/402: training loss=0.01\n",
            "Step 291/402: training loss=0.11\n",
            "Step 290/402: training loss=0.00\n",
            "Step 289/402: training loss=0.03\n",
            "Step 288/402: training loss=0.00\n",
            "Step 287/402: training loss=0.00\n",
            "Step 286/402: training loss=0.08\n",
            "Step 285/402: training loss=0.09\n",
            "Step 284/402: training loss=0.06\n",
            "Step 283/402: training loss=0.00\n",
            "Step 282/402: training loss=0.14\n",
            "Step 281/402: training loss=0.05\n",
            "Step 280/402: training loss=0.05\n",
            "Step 279/402: training loss=0.02\n",
            "Step 278/402: training loss=0.04\n",
            "Step 277/402: training loss=0.03\n",
            "Step 276/402: training loss=0.00\n",
            "Step 275/402: training loss=0.15\n",
            "Step 274/402: training loss=0.08\n",
            "Step 273/402: training loss=0.01\n",
            "Step 272/402: training loss=0.04\n",
            "Step 271/402: training loss=0.00\n",
            "Step 270/402: training loss=0.02\n",
            "Step 269/402: training loss=0.09\n",
            "Step 268/402: training loss=0.02\n",
            "Step 267/402: training loss=0.02\n",
            "Step 266/402: training loss=0.20\n",
            "Step 265/402: training loss=0.04\n",
            "Step 264/402: training loss=0.00\n",
            "Step 263/402: training loss=0.06\n",
            "Step 262/402: training loss=0.00\n",
            "Step 261/402: training loss=0.00\n",
            "Step 260/402: training loss=0.08\n",
            "Step 259/402: training loss=0.02\n",
            "Step 258/402: training loss=0.04\n",
            "Step 257/402: training loss=0.01\n",
            "Step 256/402: training loss=0.01\n",
            "Step 255/402: training loss=0.11\n",
            "Step 254/402: training loss=0.02\n",
            "Step 253/402: training loss=0.08\n",
            "Step 252/402: training loss=0.17\n",
            "Step 251/402: training loss=0.05\n",
            "Step 250/402: training loss=0.12\n",
            "Step 249/402: training loss=0.03\n",
            "Step 248/402: training loss=0.04\n",
            "Step 247/402: training loss=0.16\n",
            "Step 246/402: training loss=0.07\n",
            "Step 245/402: training loss=0.01\n",
            "Step 244/402: training loss=0.03\n",
            "Step 243/402: training loss=0.18\n",
            "Step 242/402: training loss=0.03\n",
            "Step 241/402: training loss=0.01\n",
            "Step 240/402: training loss=0.14\n",
            "Step 239/402: training loss=0.05\n",
            "Step 238/402: training loss=0.04\n",
            "Step 237/402: training loss=0.04\n",
            "Step 236/402: training loss=0.00\n",
            "Step 235/402: training loss=0.05\n",
            "Step 234/402: training loss=0.04\n",
            "Step 233/402: training loss=0.00\n",
            "Step 232/402: training loss=0.07\n",
            "Step 231/402: training loss=0.11\n",
            "Step 230/402: training loss=0.03\n",
            "Step 229/402: training loss=0.05\n",
            "Step 228/402: training loss=0.03\n",
            "Step 227/402: training loss=0.05\n",
            "Step 226/402: training loss=0.07\n",
            "Step 225/402: training loss=0.24\n",
            "Step 224/402: training loss=0.02\n",
            "Step 223/402: training loss=0.05\n",
            "Step 222/402: training loss=0.03\n",
            "Step 221/402: training loss=0.06\n",
            "Step 220/402: training loss=0.11\n",
            "Step 219/402: training loss=0.09\n",
            "Step 218/402: training loss=0.11\n",
            "Step 217/402: training loss=0.06\n",
            "Step 216/402: training loss=0.05\n",
            "Step 215/402: training loss=0.00\n",
            "Step 214/402: training loss=0.11\n",
            "Step 213/402: training loss=0.00\n",
            "Step 212/402: training loss=0.01\n",
            "Step 211/402: training loss=0.00\n",
            "Step 210/402: training loss=0.20\n",
            "Step 209/402: training loss=0.01\n",
            "Step 208/402: training loss=0.17\n",
            "Step 207/402: training loss=0.22\n",
            "Step 206/402: training loss=0.02\n",
            "Step 205/402: training loss=0.32\n",
            "Step 204/402: training loss=0.19\n",
            "Step 203/402: training loss=0.00\n",
            "Step 202/402: training loss=0.16\n",
            "Step 201/402: training loss=0.00\n",
            "Step 200/402: training loss=0.59\n",
            "Step 199/402: training loss=0.18\n",
            "Step 198/402: training loss=0.12\n",
            "Step 197/402: training loss=0.01\n",
            "Step 196/402: training loss=0.06\n",
            "Step 195/402: training loss=0.05\n",
            "Step 194/402: training loss=0.01\n",
            "Step 193/402: training loss=0.01\n",
            "Step 192/402: training loss=0.03\n",
            "Step 191/402: training loss=0.05\n",
            "Step 190/402: training loss=0.03\n",
            "Step 189/402: training loss=0.11\n",
            "Step 188/402: training loss=0.00\n",
            "Step 187/402: training loss=0.09\n",
            "Step 186/402: training loss=0.07\n",
            "Step 185/402: training loss=0.02\n",
            "Step 184/402: training loss=0.25\n",
            "Step 183/402: training loss=0.00\n",
            "Step 182/402: training loss=0.21\n",
            "Step 181/402: training loss=0.08\n",
            "Step 180/402: training loss=0.00\n",
            "Step 179/402: training loss=0.00\n",
            "Step 178/402: training loss=0.14\n",
            "Step 177/402: training loss=0.00\n",
            "Step 176/402: training loss=0.17\n",
            "Step 175/402: training loss=0.07\n",
            "Step 174/402: training loss=0.00\n",
            "Step 173/402: training loss=0.05\n",
            "Step 172/402: training loss=0.00\n",
            "Step 171/402: training loss=0.04\n",
            "Step 170/402: training loss=0.00\n",
            "Step 169/402: training loss=0.26\n",
            "Step 168/402: training loss=0.06\n",
            "Step 167/402: training loss=0.15\n",
            "Step 166/402: training loss=0.02\n",
            "Step 165/402: training loss=0.02\n",
            "Step 164/402: training loss=0.03\n",
            "Step 163/402: training loss=0.00\n",
            "Step 162/402: training loss=0.03\n",
            "Step 161/402: training loss=0.00\n",
            "Step 160/402: training loss=0.07\n",
            "Step 159/402: training loss=0.00\n",
            "Step 158/402: training loss=0.00\n",
            "Step 157/402: training loss=0.05\n",
            "Step 156/402: training loss=0.13\n",
            "Step 155/402: training loss=0.03\n",
            "Step 154/402: training loss=0.06\n",
            "Step 153/402: training loss=0.23\n",
            "Step 152/402: training loss=0.29\n",
            "Step 151/402: training loss=0.03\n",
            "Step 150/402: training loss=0.03\n",
            "Step 149/402: training loss=0.17\n",
            "Step 148/402: training loss=0.04\n",
            "Step 147/402: training loss=0.03\n",
            "Step 146/402: training loss=0.04\n",
            "Step 145/402: training loss=0.00\n",
            "Step 144/402: training loss=0.46\n",
            "Step 143/402: training loss=0.10\n",
            "Step 142/402: training loss=0.03\n",
            "Step 141/402: training loss=0.00\n",
            "Step 140/402: training loss=0.15\n",
            "Step 139/402: training loss=0.10\n",
            "Step 138/402: training loss=0.14\n",
            "Step 137/402: training loss=0.08\n",
            "Step 136/402: training loss=0.02\n",
            "Step 135/402: training loss=0.10\n",
            "Step 134/402: training loss=0.05\n",
            "Step 133/402: training loss=0.13\n",
            "Step 132/402: training loss=0.03\n",
            "Step 131/402: training loss=0.28\n",
            "Step 130/402: training loss=0.00\n",
            "Step 129/402: training loss=0.08\n",
            "Step 128/402: training loss=0.01\n",
            "Step 127/402: training loss=0.14\n",
            "Step 126/402: training loss=0.00\n",
            "Step 125/402: training loss=0.00\n",
            "Step 124/402: training loss=0.02\n",
            "Step 123/402: training loss=0.11\n",
            "Step 122/402: training loss=0.01\n",
            "Step 121/402: training loss=0.01\n",
            "Step 120/402: training loss=0.05\n",
            "Step 119/402: training loss=0.01\n",
            "Step 118/402: training loss=0.15\n",
            "Step 117/402: training loss=0.19\n",
            "Step 116/402: training loss=0.25\n",
            "Step 115/402: training loss=0.25\n",
            "Step 114/402: training loss=0.06\n",
            "Step 113/402: training loss=0.37\n",
            "Step 112/402: training loss=0.07\n",
            "Step 111/402: training loss=0.08\n",
            "Step 110/402: training loss=0.21\n",
            "Step 109/402: training loss=0.07\n",
            "Step 108/402: training loss=0.05\n",
            "Step 107/402: training loss=0.16\n",
            "Step 106/402: training loss=0.12\n",
            "Step 105/402: training loss=0.11\n",
            "Step 104/402: training loss=0.20\n",
            "Step 103/402: training loss=0.12\n",
            "Step 102/402: training loss=0.04\n",
            "Step 101/402: training loss=0.24\n",
            "Step 100/402: training loss=0.15\n",
            "Step 99/402: training loss=0.06\n",
            "Step 98/402: training loss=0.07\n",
            "Step 97/402: training loss=0.05\n",
            "Step 96/402: training loss=0.43\n",
            "Step 95/402: training loss=0.27\n",
            "Step 94/402: training loss=0.35\n",
            "Step 93/402: training loss=0.09\n",
            "Step 92/402: training loss=0.11\n",
            "Step 91/402: training loss=0.06\n",
            "Step 90/402: training loss=0.56\n",
            "Step 89/402: training loss=0.05\n",
            "Step 88/402: training loss=0.07\n",
            "Step 87/402: training loss=0.13\n",
            "Step 86/402: training loss=0.33\n",
            "Step 85/402: training loss=0.07\n",
            "Step 84/402: training loss=0.06\n",
            "Step 83/402: training loss=0.98\n",
            "Step 82/402: training loss=0.06\n",
            "Step 81/402: training loss=0.08\n",
            "Step 80/402: training loss=0.06\n",
            "Step 79/402: training loss=1.09\n",
            "Step 78/402: training loss=0.12\n",
            "Step 77/402: training loss=0.14\n",
            "Step 76/402: training loss=1.31\n",
            "Step 75/402: training loss=1.36\n",
            "Step 74/402: training loss=0.05\n",
            "Step 73/402: training loss=0.05\n",
            "Step 72/402: training loss=0.11\n",
            "Step 71/402: training loss=0.08\n",
            "Step 70/402: training loss=0.15\n",
            "Step 69/402: training loss=0.11\n",
            "Step 68/402: training loss=0.32\n",
            "Step 67/402: training loss=0.14\n",
            "Step 66/402: training loss=0.09\n",
            "Step 65/402: training loss=0.05\n",
            "Step 64/402: training loss=0.08\n",
            "Step 63/402: training loss=0.10\n",
            "Step 62/402: training loss=0.53\n",
            "Step 61/402: training loss=0.56\n",
            "Step 60/402: training loss=0.16\n",
            "Step 59/402: training loss=0.05\n",
            "Step 58/402: training loss=0.11\n",
            "Step 57/402: training loss=0.05\n",
            "Step 56/402: training loss=0.04\n",
            "Step 55/402: training loss=0.28\n",
            "Step 54/402: training loss=0.23\n",
            "Step 53/402: training loss=0.21\n",
            "Step 52/402: training loss=0.09\n",
            "Step 51/402: training loss=0.17\n",
            "Step 50/402: training loss=1.71\n",
            "Step 49/402: training loss=0.31\n",
            "Step 48/402: training loss=0.05\n",
            "Step 47/402: training loss=0.19\n",
            "Step 46/402: training loss=0.18\n",
            "Step 45/402: training loss=0.07\n",
            "Step 44/402: training loss=0.18\n",
            "Step 43/402: training loss=0.44\n",
            "Step 42/402: training loss=0.09\n",
            "Step 41/402: training loss=0.06\n",
            "Step 40/402: training loss=0.16\n",
            "Step 39/402: training loss=0.23\n",
            "Step 38/402: training loss=0.24\n",
            "Step 37/402: training loss=0.16\n",
            "Step 36/402: training loss=0.08\n",
            "Step 35/402: training loss=0.52\n",
            "Step 34/402: training loss=0.57\n",
            "Step 33/402: training loss=0.18\n",
            "Step 32/402: training loss=0.26\n",
            "Step 31/402: training loss=0.51\n",
            "Step 30/402: training loss=0.14\n",
            "Step 29/402: training loss=0.22\n",
            "Step 28/402: training loss=0.09\n",
            "Step 27/402: training loss=0.04\n",
            "Step 26/402: training loss=0.38\n",
            "Step 25/402: training loss=0.08\n",
            "Step 24/402: training loss=2.33\n",
            "Step 23/402: training loss=0.09\n",
            "Step 22/402: training loss=0.15\n",
            "Step 21/402: training loss=0.39\n",
            "Step 20/402: training loss=0.07\n",
            "Step 19/402: training loss=0.22\n",
            "Step 18/402: training loss=0.53\n",
            "Step 17/402: training loss=0.05\n",
            "Step 16/402: training loss=0.13\n",
            "Step 15/402: training loss=0.39\n",
            "Step 14/402: training loss=0.07\n",
            "Step 13/402: training loss=0.28\n",
            "Step 12/402: training loss=0.46\n",
            "Step 11/402: training loss=0.50\n",
            "Step 10/402: training loss=0.38\n",
            "Step 9/402: training loss=0.77\n",
            "Step 8/402: training loss=0.83\n",
            "Step 7/402: training loss=3.03\n",
            "Step 6/402: training loss=1.36\n",
            "Step 5/402: training loss=0.87\n",
            "Step 4/402: training loss=1.19\n",
            "Step 3/402: training loss=0.91\n",
            "Step 2/402: training loss=3.00\n",
            "Step 1/402: training loss=0.80\n",
            "Fine-tuning job started\n",
            "Files validated, moving job to queued state\n",
            "Validating training file: file-INwS1KMOrx3Jkg8f2oLEc6TN\n",
            "Created fine-tuning job: ftjob-0UfvfDp7jnQA6oNNWoc8nbLO\n"
          ]
        }
      ],
      "source": [
        "events = list(client.fine_tuning.jobs.list_events(fine_tuning_job_id = fine_tuning_job.id, limit=100))\n",
        "\n",
        "for e in events:\n",
        "    print(e.message)"
      ]
    },
    {
      "cell_type": "markdown",
      "metadata": {
        "id": "Pe3jUJJjyeO1"
      },
      "source": [
        "Let's extract the training loss in each learning step"
      ]
    },
    {
      "cell_type": "code",
      "execution_count": 23,
      "metadata": {
        "id": "oqhDoVBNzW_w"
      },
      "outputs": [
        {
          "name": "stdout",
          "output_type": "stream",
          "text": [
            "[402, 401, 400, 399, 398, 397, 396, 395, 394, 393, 392, 391, 390, 389, 388, 387, 386, 385, 384, 383, 382, 381, 380, 379, 378, 377, 376, 375, 374, 373, 372, 371, 370, 369, 368, 367, 366, 365, 364, 363, 362, 361, 360, 359, 358, 357, 356, 355, 354, 353, 352, 351, 350, 349, 348, 347, 346, 345, 344, 343, 342, 341, 340, 339, 338, 337, 336, 335, 334, 333, 332, 331, 330, 329, 328, 327, 326, 325, 324, 323, 322, 321, 320, 319, 318, 317, 316, 315, 314, 313, 312, 311, 310, 309, 308, 307, 306, 305, 304, 303, 302, 301, 300, 299, 298, 297, 296, 295, 294, 293, 292, 291, 290, 289, 288, 287, 286, 285, 284, 283, 282, 281, 280, 279, 278, 277, 276, 275, 274, 273, 272, 271, 270, 269, 268, 267, 266, 265, 264, 263, 262, 261, 260, 259, 258, 257, 256, 255, 254, 253, 252, 251, 250, 249, 248, 247, 246, 245, 244, 243, 242, 241, 240, 239, 238, 237, 236, 235, 234, 233, 232, 231, 230, 229, 228, 227, 226, 225, 224, 223, 222, 221, 220, 219, 218, 217, 216, 215, 214, 213, 212, 211, 210, 209, 208, 207, 206, 205, 204, 203, 202, 201, 200, 199, 198, 197, 196, 195, 194, 193, 192, 191, 190, 189, 188, 187, 186, 185, 184, 183, 182, 181, 180, 179, 178, 177, 176, 175, 174, 173, 172, 171, 170, 169, 168, 167, 166, 165, 164, 163, 162, 161, 160, 159, 158, 157, 156, 155, 154, 153, 152, 151, 150, 149, 148, 147, 146, 145, 144, 143, 142, 141, 140, 139, 138, 137, 136, 135, 134, 133, 132, 131, 130, 129, 128, 127, 126, 125, 124, 123, 122, 121, 120, 119, 118, 117, 116, 115, 114, 113, 112, 111, 110, 109, 108, 107, 106, 105, 104, 103, 102, 101, 100, 99, 98, 97, 96, 95, 94, 93, 92, 91, 90, 89, 88, 87, 86, 85, 84, 83, 82, 81, 80, 79, 78, 77, 76, 75, 74, 73, 72, 71, 70, 69, 68, 67, 66, 65, 64, 63, 62, 61, 60, 59, 58, 57, 56, 55, 54, 53, 52, 51, 50, 49, 48, 47, 46, 45, 44, 43, 42, 41, 40, 39, 38, 37, 36, 35, 34, 33, 32, 31, 30, 29, 28, 27, 26, 25, 24, 23, 22, 21, 20, 19, 18, 17, 16, 15, 14, 13, 12, 11, 10, 9, 8, 7, 6, 5, 4, 3, 2, 1]\n",
            "[0.05857452377676964, 0.013383941724896431, 0.18633411824703217, 0.011908354237675667, 0.0025973510928452015, 0.011624371632933617, 0.006508753634989262, 0.041148822754621506, 0.07797326147556305, 0.042544204741716385, 2.825701699293859e-07, 0.1708509773015976, 0.05949825793504715, 0.0682494044303894, 2.825701699293859e-07, 0.0015997709706425667, 0.06238887831568718, 0.030893253162503242, 0.020077265799045563, 7.813317643012851e-05, 0.05595901608467102, 2.825701699293859e-07, 0.014462661929428577, 0.0098863011226058, 0.09009432047605515, 0.09354473650455475, 0.09886317700147629, 0.014749160036444664, 0.0823725163936615, 0.0007642816635780036, 0.08621986210346222, 0.00858695711940527, 0.1348065286874771, 0.0008719409233890474, 0.050818055868148804, 0.018219834193587303, 0.14228643476963043, 0.006503524724394083, 0.0006668227142654359, 0.016649173572659492, 0.036723170429468155, 0.07368110865354538, 0.001548987114802003, 0.022723617032170296, 0.11148489266633987, 0.1698371171951294, 0.0051375580951571465, 0.00154516426846385, 0.05067642033100128, 3.5321269820087764e-07, 0.07728519290685654, 0.2898053824901581, 0.08705948293209076, 0.24817000329494476, 0.06738901138305664, 2.825701699293859e-07, 0.17597323656082153, 0.24222496151924133, 3.5321269820087764e-07, 3.5321269820087764e-07, 0.0491776280105114, 0.048859480768442154, 0.08617515861988068, 3.5321269820087764e-07, 0.10273062437772751, 0.20115771889686584, 0.0010579681256785989, 0.00011478151282062754, 0.0025841521564871073, 0.00012327123840805143, 0.031190872192382812, 0.008143865503370762, 0.001978073036298156, 0.011882287450134754, 3.5321269820087764e-07, 0.0032743073534220457, 0.0068164970725774765, 3.5321269820087764e-07, 0.006227035541087389, 0.009625141508877277, 0.04575202986598015, 0.12229844182729721, 3.5321269820087764e-07, 0.015288620255887508, 0.00635917391628027, 0.015806198120117188, 0.07946494966745377, 0.023470208048820496, 3.5321269820087764e-07, 0.016613641753792763, 0.03234826773405075, 3.5321269820087764e-07, 0.003109727520495653, 0.03108222968876362, 0.03752363473176956, 0.05807212367653847, 3.5321269820087764e-07, 0.0032967054285109043, 0.03793805092573166, 0.08672882616519928, 3.652219311334193e-05, 0.13822081685066223, 0.1119401603937149, 0.140581414103508, 0.000816418556496501, 0.1292528510093689, 0.000756759662181139, 0.05920431390404701, 0.006234755739569664, 0.09545860439538956, 0.009895095601677895, 0.10531564801931381, 0.0038535308558493853, 0.03055410087108612, 0.0021415858063846827, 0.001272506662644446, 0.08427640050649643, 0.08598122745752335, 0.060659561306238174, 4.238552548940788e-07, 0.1363687962293625, 0.05047423392534256, 0.0453345961868763, 0.022720184177160263, 0.037485335022211075, 0.027803421020507812, 0.004393542185425758, 0.147064208984375, 0.07689554989337921, 0.011754707433283329, 0.03727446496486664, 5.651403398587718e-07, 0.020132871344685555, 0.09066757559776306, 0.024438418447971344, 0.019120482727885246, 0.1969728022813797, 0.03735831752419472, 0.004001122899353504, 0.0601036362349987, 4.238552548940788e-07, 4.238552548940788e-07, 0.07970061153173447, 0.016993770375847816, 0.04303506761789322, 0.009638126008212566, 0.014443817548453808, 0.11197295784950256, 0.01631012000143528, 0.07899536192417145, 0.17346008121967316, 0.047535087913274765, 0.11644027382135391, 0.0251053124666214, 0.040324725210666656, 0.16273219883441925, 0.07293743640184402, 0.011374720372259617, 0.025567473843693733, 0.17715881764888763, 0.03420427069067955, 0.01293960027396679, 0.14474035799503326, 0.05080703645944595, 0.0376027412712574, 0.04225780442357063, 7.064253964017553e-07, 0.04938433691859245, 0.04011932387948036, 4.238552548940788e-07, 0.07428628206253052, 0.10855512320995331, 0.030695496127009392, 0.050107602030038834, 0.02855789102613926, 0.05120529234409332, 0.06566831469535828, 0.2377387136220932, 0.02078291028738022, 0.05277353897690773, 0.02891291119158268, 0.06450065970420837, 0.11165929585695267, 0.08704681694507599, 0.10553192347288132, 0.06058654934167862, 0.04702193662524223, 0.003619079478085041, 0.10682255774736404, 6.35782896551973e-07, 0.013536998070776463, 9.889955663311412e-07, 0.2014419585466385, 0.010682983323931694, 0.17277966439723969, 0.21862609684467316, 0.023483123630285263, 0.31612029671669006, 0.18594883382320404, 4.238552548940788e-07, 0.1553751826286316, 4.944977831655706e-07, 0.5936993360519409, 0.18013477325439453, 0.1228899359703064, 0.01076377835124731, 0.0597708486020565, 0.05330812186002731, 0.009805221110582352, 0.013689651153981686, 0.029758665710687637, 0.0518040657043457, 0.030795210972428322, 0.1134452149271965, 9.25417316466337e-06, 0.08693534880876541, 0.07012218981981277, 0.02096160314977169, 0.24817247688770294, 5.651403398587718e-07, 0.20580413937568665, 0.08473073691129684, 5.651403398587718e-07, 0.00028624359401874244, 0.14011849462985992, 0.00042057037353515625, 0.17457962036132812, 0.06635887175798416, 0.0011157989501953125, 0.053529080003499985, 0.001365449745208025, 0.04344984143972397, 7.770679530949565e-07, 0.26250413060188293, 0.06388004124164581, 0.15329501032829285, 0.015161285176873207, 0.019520895555615425, 0.032473985105752945, 1.0596381798677612e-06, 0.02609601430594921, 1.3422082929537282e-06, 0.0685412809252739, 2.260561359435087e-06, 2.613774086057674e-06, 0.05338425561785698, 0.12958012521266937, 0.029580188915133476, 0.06276925653219223, 0.22787338495254517, 0.285288542509079, 0.03321800380945206, 0.028470993041992188, 0.16864410042762756, 0.04172549769282341, 0.034617263823747635, 0.03907753899693489, 0.0018152307020500302, 0.4557611048221588, 0.09776602685451508, 0.026284877210855484, 4.874335445492761e-06, 0.15214604139328003, 0.1029854565858841, 0.14362956583499908, 0.07975543290376663, 0.01932678185403347, 0.09893439710140228, 0.05387623980641365, 0.12949320673942566, 0.028291838243603706, 0.27672332525253296, 8.0108642578125e-05, 0.08297106623649597, 0.011168059892952442, 0.14482009410858154, 0.001045015174895525, 0.0014980457490310073, 0.018810654059052467, 0.10636482387781143, 0.010116718709468842, 0.010128515772521496, 0.04509071260690689, 0.014518030919134617, 0.1520986258983612, 0.18818099796772003, 0.24990138411521912, 0.246054545044899, 0.0564848817884922, 0.36859336495399475, 0.074237160384655, 0.07928021997213364, 0.20596076548099518, 0.07124825567007065, 0.05273746699094772, 0.15702451765537262, 0.11524772644042969, 0.10961264371871948, 0.1958136409521103, 0.11922191083431244, 0.039196159690618515, 0.23789434134960175, 0.14699439704418182, 0.0555226132273674, 0.07428103685379028, 0.05241803824901581, 0.4336150884628296, 0.273196816444397, 0.34649956226348877, 0.09157518297433853, 0.11251244693994522, 0.05830807238817215, 0.5581772327423096, 0.04846741631627083, 0.06596367806196213, 0.1294572502374649, 0.3338330090045929, 0.06500007957220078, 0.06315837800502777, 0.9838049411773682, 0.0636526495218277, 0.08463360369205475, 0.05993044748902321, 1.0896683931350708, 0.1168927401304245, 0.1364591270685196, 1.3092674016952515, 1.3613600730895996, 0.046739138662815094, 0.051257017999887466, 0.10683554410934448, 0.07629240304231644, 0.1531722992658615, 0.11300956457853317, 0.32089877128601074, 0.14342276751995087, 0.08627456426620483, 0.049604278057813644, 0.07540151476860046, 0.09516299515962601, 0.5295460224151611, 0.5616604089736938, 0.15635353326797485, 0.04949643090367317, 0.10679912567138672, 0.049264129251241684, 0.04469641298055649, 0.2788362205028534, 0.23497411608695984, 0.211924210190773, 0.08946357667446136, 0.16753815114498138, 1.7054028511047363, 0.30674320459365845, 0.04654640331864357, 0.18538008630275726, 0.1772792935371399, 0.07459808140993118, 0.18463470041751862, 0.4394567906856537, 0.08764488250017166, 0.06079063564538956, 0.1641351878643036, 0.23250484466552734, 0.2424234300851822, 0.16262154281139374, 0.07518965750932693, 0.5191391110420227, 0.5712944865226746, 0.18185585737228394, 0.26193082332611084, 0.5098148584365845, 0.13971534371376038, 0.21668709814548492, 0.08522752672433853, 0.039279405027627945, 0.3770778477191925, 0.07695146650075912, 2.3324291706085205, 0.09428596496582031, 0.15159212052822113, 0.3899582326412201, 0.0677504763007164, 0.21767418086528778, 0.5258952379226685, 0.05426063388586044, 0.13164308667182922, 0.3862101137638092, 0.06666610389947891, 0.2792973220348358, 0.46208614110946655, 0.500985324382782, 0.37846463918685913, 0.7717381119728088, 0.827804684638977, 3.034680128097534, 1.364857792854309, 0.8719161748886108, 1.1883606910705566, 0.9110885262489319, 2.998807668685913, 0.8047362565994263]\n"
          ]
        }
      ],
      "source": [
        "steps = []\n",
        "train_loss = []\n",
        "\n",
        "for e in events:\n",
        "    if(e.data):\n",
        "        steps.append(e.data[\"step\"])\n",
        "        train_loss.append(e.data[\"train_loss\"])\n",
        "        \n",
        "print(steps)\n",
        "print(train_loss)"
      ]
    },
    {
      "cell_type": "markdown",
      "metadata": {
        "id": "iiiJIUuq2W4D"
      },
      "source": [
        "Use a line chart to visualize the train_loss in each step"
      ]
    },
    {
      "cell_type": "code",
      "execution_count": 24,
      "metadata": {
        "id": "EMRvEd-F2bLO"
      },
      "outputs": [
        {
          "data": {
            "text/plain": [
              "[<matplotlib.lines.Line2D at 0x144470990>]"
            ]
          },
          "execution_count": 24,
          "metadata": {},
          "output_type": "execute_result"
        },
        {
          "data": {
            "image/png": "[encoded data removed]",
            "text/plain": [
              "<Figure size 640x480 with 1 Axes>"
            ]
          },
          "metadata": {},
          "output_type": "display_data"
        }
      ],
      "source": [
        "plt.plot(steps, train_loss, marker='o', linestyle='-')"
      ]
    },
    {
      "cell_type": "markdown",
      "metadata": {
        "id": "8lGyZnvk25q9"
      },
      "source": [
        "### Task 5 - Deploy our model"
      ]
    },
    {
      "cell_type": "markdown",
      "metadata": {
        "id": "EYljL-wH42ce"
      },
      "source": [
        "Let's take a look at `retrieved_job` again"
      ]
    },
    {
      "cell_type": "code",
      "execution_count": 25,
      "metadata": {
        "id": "q4ChDCWo3H85"
      },
      "outputs": [
        {
          "name": "stdout",
          "output_type": "stream",
          "text": [
            "ft:gpt-3.5-turbo-0125:personal::9S60AmFm\n"
          ]
        }
      ],
      "source": [
        "myLLM = retrieve_job.fine_tuned_model\n",
        "print(myLLM)"
      ]
    },
    {
      "cell_type": "markdown",
      "metadata": {
        "id": "nLLfuwC4-h9K"
      },
      "source": [
        "Defining a method to extract information from a given user complaint using a specific LLM and return the results."
      ]
    },
    {
      "cell_type": "code",
      "execution_count": 26,
      "metadata": {
        "id": "P3_99_Hf5CV1"
      },
      "outputs": [],
      "source": [
        "def extract_details(user_complaint, model_name):\n",
        "    \"\"\"\n",
        "    This function extracts information from a given user complaint using a specific LLM (Large Language Model).\n",
        "\n",
        "    Parameters:\n",
        "    user_complaint (str): The text of the user's complaint.\n",
        "    model_name (str): The name of the specific LLM model to use for extraction.\n",
        "    \"\"\"\n",
        "\n",
        "    system_content = \"\"\"\n",
        "        Given a customer complaint text, extract and return the following information in JSON (dict) format:\n",
        "        - Topic\n",
        "        - Problem\n",
        "        - Customer_Dissatisfaction_Index\n",
        "    \"\"\"\n",
        "\n",
        "    # Generate a response using the specified model and the user's complaint\n",
        "    response = client.chat.completions.create(\n",
        "        model = model_name,\n",
        "        messages=[\n",
        "            {\"role\": \"system\", \"content\": system_content},  # System content explaining the expected output\n",
        "            {\"role\": \"user\", \"content\": user_complaint}  # User's complaint passed as content\n",
        "        ]\n",
        "    )\n",
        "\n",
        "    # Return the content of the generated response\n",
        "    return response.choices[0].message.content\n"
      ]
    },
    {
      "cell_type": "markdown",
      "metadata": {
        "id": "zE_O2zAwplof"
      },
      "source": [
        "Let's use our fine-tuned model to extract the details for the following user complaint:\n",
        "\n",
        "*TV channels keep disappearing from my subscription! What's going on? Extremely annoyed with this service!*"
      ]
    },
    {
      "cell_type": "code",
      "execution_count": 27,
      "metadata": {
        "id": "vD1dEjnzWTuw"
      },
      "outputs": [
        {
          "data": {
            "text/plain": [
              "'{\"Topic\": \"TV\", \"Problem\": \"Channels Disappearing\", \"Customer_Dissatisfaction_Index\": 95}'"
            ]
          },
          "execution_count": 27,
          "metadata": {},
          "output_type": "execute_result"
        }
      ],
      "source": [
        "complaint = \"TV channels keep disappearing from my subscription! What's going on? Extremely annoyed with this service!\"\n",
        "extract_details(complaint, myLLM)"
      ]
    },
    {
      "cell_type": "markdown",
      "metadata": {
        "id": "LJNgLZoS6-gw"
      },
      "source": [
        "Let's test our `GPT-4` model with the same user complaint"
      ]
    },
    {
      "cell_type": "code",
      "execution_count": 28,
      "metadata": {
        "id": "G2XBuw0N47AC"
      },
      "outputs": [
        {
          "data": {
            "text/plain": [
              "'```json\\n{\\n    \"Topic\": \"TV channels\",\\n    \"Problem\": \"Channels keep disappearing from subscription\",\\n    \"Customer_Dissatisfaction_Index\": \"Extremely annoyed\"\\n}\\n```'"
            ]
          },
          "execution_count": 28,
          "metadata": {},
          "output_type": "execute_result"
        }
      ],
      "source": [
        "extract_details(complaint, 'gpt-4o')"
      ]
    },
    {
      "cell_type": "markdown",
      "metadata": {
        "id": "J3xZBAUitpVq"
      },
      "source": [
        "Let's try for the following complaint:\n",
        "\n",
        "*Line is down! It is really annoying!*"
      ]
    },
    {
      "cell_type": "code",
      "execution_count": 29,
      "metadata": {
        "id": "I3O6HzK_ttZ7"
      },
      "outputs": [
        {
          "data": {
            "text/plain": [
              "'{\"Topic\": \"Internet\", \"Problem\": \"Connection down\", \"Customer_Dissatisfaction_Index\": 95}'"
            ]
          },
          "execution_count": 29,
          "metadata": {},
          "output_type": "execute_result"
        }
      ],
      "source": [
        "complaint = \"Line is down! It is really annoying!\"\n",
        "extract_details(complaint, myLLM)"
      ]
    },
    {
      "cell_type": "markdown",
      "metadata": {
        "id": "W4zeLRZfuNmS"
      },
      "source": [
        "Now let's compare the results from GPT-4"
      ]
    },
    {
      "cell_type": "code",
      "execution_count": 32,
      "metadata": {
        "id": "6ubUkjXXuQ8X"
      },
      "outputs": [
        {
          "data": {
            "text/plain": [
              "'```json\\n{\\n    \"Topic\": \"Service Disruption\",\\n    \"Problem\": \"Line is down\",\\n    \"Customer_Dissatisfaction_Index\": 8\\n}\\n```'"
            ]
          },
          "execution_count": 32,
          "metadata": {},
          "output_type": "execute_result"
        }
      ],
      "source": [
        "extract_details(complaint, 'gpt-4o')"
      ]
    },
    {
      "cell_type": "markdown",
      "metadata": {
        "id": "YvqSymjWueXu"
      },
      "source": [
        "We can see that our model, which is trained on our dataset, provides better answers compared to GPT-4. Our model is fine-tuned based on our data and is familiar with the different edge cases and the context of our dataset."
      ]
    },
    {
      "cell_type": "code",
      "execution_count": 31,
      "metadata": {
        "id": "wVQQfAAXy-v8"
      },
      "outputs": [
        {
          "data": {
            "text/plain": [
              "'{\"Topic\": \"Pricing\", \"Problem\": \"Refund\", \"Customer_Dissatisfaction_Index\": 100}'"
            ]
          },
          "execution_count": 31,
          "metadata": {},
          "output_type": "execute_result"
        }
      ],
      "source": [
        "customer_complaint = \"I am very Angry! I want my money back!\"\n",
        "extract_details(customer_complaint, myLLM)"
      ]
    },
    {
      "cell_type": "code",
      "execution_count": null,
      "metadata": {},
      "outputs": [],
      "source": []
    }
  ],
  "metadata": {
    "colab": {
      "collapsed_sections": [
        "1Rp80dTGpsDD",
        "0r2XnfwnqTCK",
        "Jo9HFdW0jput",
        "4XB-sFc3kO4A",
        "8lGyZnvk25q9"
      ],
      "provenance": []
    },
    "kernelspec": {
      "display_name": "Python 3",
      "name": "python3"
    },
    "language_info": {
      "codemirror_mode": {
        "name": "ipython",
        "version": 3
      },
      "file_extension": ".py",
      "mimetype": "text/x-python",
      "name": "python",
      "nbconvert_exporter": "python",
      "pygments_lexer": "ipython3",
      "version": "3.11.5"
    }
  },
  "nbformat": 4,
  "nbformat_minor": 0
}
